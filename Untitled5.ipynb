{
 "cells": [
  {
   "cell_type": "code",
   "execution_count": 2,
   "id": "758eb818",
   "metadata": {},
   "outputs": [
    {
     "name": "stdout",
     "output_type": "stream",
     "text": [
      "enter a number456\n",
      "reverse of a number 654\n"
     ]
    }
   ],
   "source": [
    "a=int(input(\"enter a number\"))\n",
    "s=0\n",
    "while a!=0:\n",
    "    x=a%10\n",
    "    s=s*10+x\n",
    "    a=a//10\n",
    "print(\"reverse of a number\",s)\n",
    "    "
   ]
  },
  {
   "cell_type": "code",
   "execution_count": 27,
   "id": "b7fe9d6e",
   "metadata": {},
   "outputs": [
    {
     "name": "stdout",
     "output_type": "stream",
     "text": [
      "[36, 49, 16, 6084, 1764, 4]\n"
     ]
    }
   ],
   "source": [
    "a=[6,7,4,78,42,2]\n",
    "b=[]\n",
    "for i in range(0,6):\n",
    "    q=a[i]*a[i]\n",
    "    b.append(q)\n",
    "print(b)"
   ]
  },
  {
   "cell_type": "code",
   "execution_count": 11,
   "id": "8af96914",
   "metadata": {},
   "outputs": [
    {
     "ename": "SyntaxError",
     "evalue": "invalid syntax (Temp/ipykernel_11060/902676822.py, line 2)",
     "output_type": "error",
     "traceback": [
      "\u001b[1;36m  File \u001b[1;32m\"C:\\Users\\sharm\\AppData\\Local\\Temp/ipykernel_11060/902676822.py\"\u001b[1;36m, line \u001b[1;32m2\u001b[0m\n\u001b[1;33m    squre=[for i in range(0,6) q=a[i]*a[i]]\u001b[0m\n\u001b[1;37m           ^\u001b[0m\n\u001b[1;31mSyntaxError\u001b[0m\u001b[1;31m:\u001b[0m invalid syntax\n"
     ]
    }
   ],
   "source": [
    "a=[6,7,4,78,42,2]\n",
    "squre=[for i in range(0,6) q=a[i]*a[i]]\n",
    "print(b)"
   ]
  },
  {
   "cell_type": "code",
   "execution_count": 14,
   "id": "dc944b3e",
   "metadata": {},
   "outputs": [
    {
     "ename": "SyntaxError",
     "evalue": "invalid syntax (Temp/ipykernel_11060/1537904524.py, line 2)",
     "output_type": "error",
     "traceback": [
      "\u001b[1;36m  File \u001b[1;32m\"C:\\Users\\sharm\\AppData\\Local\\Temp/ipykernel_11060/1537904524.py\"\u001b[1;36m, line \u001b[1;32m2\u001b[0m\n\u001b[1;33m    for i in range()\u001b[0m\n\u001b[1;37m                    ^\u001b[0m\n\u001b[1;31mSyntaxError\u001b[0m\u001b[1;31m:\u001b[0m invalid syntax\n"
     ]
    }
   ],
   "source": [
    "a=int(input(n))\n",
    "\n",
    "s=a**2\n",
    "s"
   ]
  },
  {
   "cell_type": "code",
   "execution_count": 30,
   "id": "c69e47a7",
   "metadata": {},
   "outputs": [
    {
     "data": {
      "text/plain": [
       "[1, 27, 125, 343, 729]"
      ]
     },
     "execution_count": 30,
     "metadata": {},
     "output_type": "execute_result"
    }
   ],
   "source": [
    "s=[i**3 for i in range (1,10,2)]\n",
    "s"
   ]
  },
  {
   "cell_type": "markdown",
   "id": "af6800f6",
   "metadata": {},
   "source": [
    "# qwerty"
   ]
  },
  {
   "cell_type": "code",
   "execution_count": 33,
   "id": "279f60cf",
   "metadata": {},
   "outputs": [
    {
     "data": {
      "text/plain": [
       "[('aa', 10), ('bb', 20), ('cc', 30)]"
      ]
     },
     "execution_count": 33,
     "metadata": {},
     "output_type": "execute_result"
    }
   ],
   "source": [
    "items=['aa','bb','cc','dd']\n",
    "prices=[10,20,30]\n",
    "res=[element for element in zip (items,prices)]\n",
    "res"
   ]
  },
  {
   "cell_type": "code",
   "execution_count": 36,
   "id": "cf7c4f1d",
   "metadata": {},
   "outputs": [
    {
     "data": {
      "text/plain": [
       "{'aa': 10, 'bb': 20, 'cc': 30}"
      ]
     },
     "execution_count": 36,
     "metadata": {},
     "output_type": "execute_result"
    }
   ],
   "source": [
    "items=['aa','bb','cc','dd']\n",
    "prices=[10,20,30]\n",
    "res={item:price for item,price in zip (items,prices)}\n",
    "res"
   ]
  },
  {
   "cell_type": "code",
   "execution_count": 4,
   "id": "db562e38",
   "metadata": {},
   "outputs": [
    {
     "data": {
      "text/plain": [
       "[1, 2, 3, 4, 5]"
      ]
     },
     "execution_count": 4,
     "metadata": {},
     "output_type": "execute_result"
    }
   ],
   "source": [
    "l=int(input(\"enter number\"))\n",
    "for i in range(0)"
   ]
  },
  {
   "cell_type": "code",
   "execution_count": null,
   "id": "e64cd765",
   "metadata": {},
   "outputs": [],
   "source": []
  },
  {
   "cell_type": "code",
   "execution_count": null,
   "id": "0a3e1ebf",
   "metadata": {},
   "outputs": [],
   "source": []
  },
  {
   "cell_type": "code",
   "execution_count": null,
   "id": "f0db1301",
   "metadata": {},
   "outputs": [],
   "source": []
  }
 ],
 "metadata": {
  "kernelspec": {
   "display_name": "Python 3 (ipykernel)",
   "language": "python",
   "name": "python3"
  },
  "language_info": {
   "codemirror_mode": {
    "name": "ipython",
    "version": 3
   },
   "file_extension": ".py",
   "mimetype": "text/x-python",
   "name": "python",
   "nbconvert_exporter": "python",
   "pygments_lexer": "ipython3",
   "version": "3.9.7"
  }
 },
 "nbformat": 4,
 "nbformat_minor": 5
}
